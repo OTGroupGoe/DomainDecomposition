{
  "cells": [
    {
      "cell_type": "code",
      "execution_count": null,
      "metadata": {
        "collapsed": false
      },
      "outputs": [],
      "source": [
        "%matplotlib inline"
      ]
    },
    {
      "cell_type": "markdown",
      "metadata": {},
      "source": [
        "\n3d Point clouds\n===============================================================================\n\nCompute optimal transport between two point clouds in 3d, then compute displacement interpolation and rasterize a 2d projection of it to an image\n"
      ]
    },
    {
      "cell_type": "code",
      "execution_count": null,
      "metadata": {
        "collapsed": false
      },
      "outputs": [],
      "source": [
        "import time\nimport matplotlib.pyplot as plt\nimport numpy as np\nimport scipy.sparse\nimport MultiScaleOT\n\n# functions to sample from sphere and torus with constant density\n\ndef sampleSphere(n):\n    phi=2*np.pi*np.random.random(size=n)\n    rad=(np.random.random(size=n))**(1/3)\n    cosTheta=1-2*np.random.random(size=n)\n    sinTheta=(1-cosTheta**2)**0.5\n    \n    pos=np.zeros((n,3),dtype=np.double)\n    pos[:,0]=rad*sinTheta*np.cos(phi)\n    pos[:,1]=rad*sinTheta*np.sin(phi)\n    pos[:,2]=rad*cosTheta\n    return pos\n\ndef sampleTorus(n,smallRad=0.2):\n    phi=2*np.pi*np.random.random(size=n)\n    rad=(np.random.random(size=n))**(1/2)\n    theta=2*np.pi*np.random.random(size=n)\n\n    pos=np.zeros((n,3),dtype=np.double)\n    pos[:,0]=np.cos(phi)\n    pos[:,1]=np.sin(phi)\n    pos[:,:2]+=smallRad*np.einsum(pos[:,:2],[0,1],np.cos(theta)*rad,[0],[0,1])\n    pos[:,2]=smallRad*np.sin(theta)*rad\n    return pos"
      ]
    },
    {
      "cell_type": "code",
      "execution_count": null,
      "metadata": {
        "collapsed": false
      },
      "outputs": [],
      "source": [
        "hierarchyDepth=6\nn=10000\nnLayers=hierarchyDepth+1\n# create two point clouds: one sphere, one torus\npos1=sampleSphere(n)\npos2=sampleTorus(n)\nmu1=np.full(n,1/n,dtype=np.double)\nmu2=np.full(n,1/n,dtype=np.double)\n\nfig = plt.figure(figsize=(16,8))\nax = fig.add_subplot(1,2,1, projection='3d')\nax.scatter(pos1[:,0],pos1[:,1],pos1[:,2])\nax = fig.add_subplot(1,2,2, projection='3d')\nax.scatter(pos2[:,0],pos2[:,1],pos2[:,2])\n\nplt.tight_layout()\nplt.show()"
      ]
    },
    {
      "cell_type": "markdown",
      "metadata": {},
      "source": [
        "Setup multi-scale solver\n\n"
      ]
    },
    {
      "cell_type": "code",
      "execution_count": null,
      "metadata": {
        "collapsed": false
      },
      "outputs": [],
      "source": [
        "# generate multi-scale representations\nMultiScaleSetup1=MultiScaleOT.TMultiScaleSetup(pos1,mu1,hierarchyDepth,childMode=0)\nMultiScaleSetup2=MultiScaleOT.TMultiScaleSetup(pos2,mu2,hierarchyDepth,childMode=0)\n# generate a cost function object\ncostFunction=MultiScaleOT.THierarchicalCostFunctionProvider_SquaredEuclidean(\n        MultiScaleSetup1,MultiScaleSetup2)\n# eps scaling\nepsScalingHandler=MultiScaleOT.TEpsScalingHandler()\nepsScalingHandler.setupGeometricMultiLayerB(nLayers,.3E-3,4.,2,2)\n\n# error goal\nerrorGoal=1E-3\n# sinkhorn solver object\nSinkhornSolver=MultiScaleOT.TSinkhornSolverStandard(epsScalingHandler,\n        0,hierarchyDepth,errorGoal,\n        MultiScaleSetup1,MultiScaleSetup2,costFunction\n        )"
      ]
    },
    {
      "cell_type": "markdown",
      "metadata": {},
      "source": [
        "test if multi-scale setup has appropriate numbers of elements in each layer\n\n"
      ]
    },
    {
      "cell_type": "code",
      "execution_count": null,
      "metadata": {
        "collapsed": false
      },
      "outputs": [],
      "source": [
        "print([MultiScaleSetup1.getNPoints(i) for i in range(nLayers)])\nprint([MultiScaleSetup2.getNPoints(i) for i in range(nLayers)])"
      ]
    },
    {
      "cell_type": "markdown",
      "metadata": {},
      "source": [
        "Solve\n\n"
      ]
    },
    {
      "cell_type": "code",
      "execution_count": null,
      "metadata": {
        "collapsed": false
      },
      "outputs": [],
      "source": [
        "t1=time.time()\nSinkhornSolver.initialize()\nprint(SinkhornSolver.solve())\nt2=time.time()\nprint(\"solving time: \",t2-t1)"
      ]
    },
    {
      "cell_type": "markdown",
      "metadata": {},
      "source": [
        "compute displacement interpolation\n(for more explanation on this part, see also the corresponding examples)\n\n"
      ]
    },
    {
      "cell_type": "code",
      "execution_count": null,
      "metadata": {
        "collapsed": false
      },
      "outputs": [],
      "source": [
        "couplingData=SinkhornSolver.getKernelPosData()\n\nt=0.5\ninterpData=MultiScaleOT.interpolateEuclidean(couplingData,pos1,pos2,t)\n# interpData is a container of particle masses and coordinates\n# these can be extracted via interpData.getDataTuple()\nmuT,posT=interpData.getDataTuple()\n\nfig = plt.figure(figsize=(8,8))\nax = fig.add_subplot(1,1,1, projection='3d')\nax.scatter(posT[:,0],posT[:,1],posT[:,2])\n\nplt.tight_layout()\nplt.show()"
      ]
    },
    {
      "cell_type": "markdown",
      "metadata": {},
      "source": [
        "rasterize x and y coords of the interpolation\n\n"
      ]
    },
    {
      "cell_type": "code",
      "execution_count": null,
      "metadata": {
        "collapsed": false
      },
      "outputs": [],
      "source": [
        "nPx=100\nscale=1.3\nreImg=np.zeros((nPx,nPx),dtype=np.double)\n# recompute displacement interpolation with scaled coords, drop z coord\npos1s=0.5*nPx*(1+pos1[:,:2]/scale)\npos2s=0.5*nPx*(1+pos2[:,:2]/scale)\nt=0.5\ninterpData=MultiScaleOT.interpolateEuclidean(couplingData,pos1s,pos2s,t)\n\nMultiScaleOT.projectInterpolation(interpData,reImg)\n# show rasterization\nplt.imshow(reImg)\nplt.show()"
      ]
    },
    {
      "cell_type": "markdown",
      "metadata": {},
      "source": [
        "now do this for a whole sequence of times\n\n"
      ]
    },
    {
      "cell_type": "code",
      "execution_count": null,
      "metadata": {
        "collapsed": false
      },
      "outputs": [],
      "source": [
        "nT=7\ntList=np.linspace(0.,1.,num=nT)\nfig=plt.figure(figsize=(nT*2,2))\nfor i,t in enumerate(tList):\n    fig.add_subplot(1,nT,i+1)\n    \n    # create displacement interpolations and rasterize them to image\n    interpData=MultiScaleOT.interpolateEuclidean(couplingData,pos1s,pos2s,t)\n    reImg=np.zeros((nPx,nPx),dtype=np.double)\n    MultiScaleOT.projectInterpolation(interpData,reImg)\n    \n    plt.imshow(reImg)\n    plt.axis(\"off\")\nplt.tight_layout()\nplt.show()"
      ]
    }
  ],
  "metadata": {
    "kernelspec": {
      "display_name": "Python 3",
      "language": "python",
      "name": "python3"
    },
    "language_info": {
      "codemirror_mode": {
        "name": "ipython",
        "version": 3
      },
      "file_extension": ".py",
      "mimetype": "text/x-python",
      "name": "python",
      "nbconvert_exporter": "python",
      "pygments_lexer": "ipython3",
      "version": "3.8.8"
    }
  },
  "nbformat": 4,
  "nbformat_minor": 0
}