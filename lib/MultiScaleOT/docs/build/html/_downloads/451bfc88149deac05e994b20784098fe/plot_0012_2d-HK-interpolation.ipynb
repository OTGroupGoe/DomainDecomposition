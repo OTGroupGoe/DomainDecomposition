{
  "cells": [
    {
      "cell_type": "code",
      "execution_count": null,
      "metadata": {
        "collapsed": false
      },
      "outputs": [],
      "source": [
        "%matplotlib inline"
      ]
    },
    {
      "cell_type": "markdown",
      "metadata": {},
      "source": [
        "\n2d Image Interpolation: Hellinger--Kantorovich distance\n===============================================================================\n\nThis example computes the Hellinger--Kantorovich unbalanced optimal transport between two simple 2-dimensional images and then generates a simple approximation of the displacement interpolation\n"
      ]
    },
    {
      "cell_type": "code",
      "execution_count": null,
      "metadata": {
        "collapsed": false
      },
      "outputs": [],
      "source": [
        "import time\nimport matplotlib.pyplot as plt\nimport numpy as np\nimport scipy.sparse\nimport MultiScaleOT\n\n# Create two images: two disks with equal areas\n\ndef createImage(size,posX,posY,radX,radY,intensity):\n    posXImg=np.zeros((size,size),dtype=np.double)\n    posXImg[...]=np.arange(size).reshape((-1,1))-posX\n    posYImg=np.zeros((size,size),dtype=np.double)\n    posYImg[...]=np.arange(size).reshape((1,-1))-posY\n\n    result=(posXImg**2/radX**2+posYImg**2/radY**2)<=1.\n    result=result.astype(np.double)\n    result*=intensity\n    return result"
      ]
    },
    {
      "cell_type": "code",
      "execution_count": null,
      "metadata": {
        "collapsed": false
      },
      "outputs": [],
      "source": [
        "hierarchyDepth=7 # feel free to play with this value, up to 7 (i.e. 128x128 images) it should be quite low-weight\nn=2**hierarchyDepth\nnLayers=hierarchyDepth+1\n# create two images: a disk on the left, and one on the right, with equal areas\n\n# img1\nimg1=createImage(n,n/2-0.5,0.25*n,0.2*n,0.2*n,1.)\nimg1=img1/np.sum(img1)\n\n# img2\nimg2=createImage(n,n/2-0.5,0.75*n,0.2*n,0.2*n,1.)\nimg2=img2/np.sum(img2)\n\nfig=plt.figure()\nfig.add_subplot(1,2,1)\nplt.imshow(img1)\nfig.add_subplot(1,2,2)\nplt.imshow(img2)\nplt.tight_layout()\nplt.show()"
      ]
    },
    {
      "cell_type": "markdown",
      "metadata": {},
      "source": [
        "Aux function for extracting weighted point clouds from images\n\n"
      ]
    },
    {
      "cell_type": "code",
      "execution_count": null,
      "metadata": {
        "collapsed": false
      },
      "outputs": [],
      "source": [
        "def extractMeasureFromImage(img,zeroThresh=1E-14):\n    dim=img.shape\n    \n    pos=np.zeros(dim+(2,),dtype=np.double)\n    pos[:,:,0]=np.arange(dim[0]).reshape((-1,1))\n    pos[:,:,1]=np.arange(dim[1]).reshape((1,-1))\n    pos=pos.reshape((-1,2))\n    keep=(img.ravel()>zeroThresh)\n    mu=img.ravel()[keep]\n    pos=pos[keep]\n    return (mu,pos)\n\n# extract measures from images\nmu1,pos1=extractMeasureFromImage(img1)\nmu2,pos2=extractMeasureFromImage(img2)"
      ]
    },
    {
      "cell_type": "markdown",
      "metadata": {},
      "source": [
        "Setup multi-scale solver\n\n"
      ]
    },
    {
      "cell_type": "code",
      "execution_count": null,
      "metadata": {
        "collapsed": false
      },
      "outputs": [],
      "source": [
        "# set a scale value for the Hellinger--Kantorovich transport\nkappa=n*0.75\n\n# generate multi-scale representations\nMultiScaleSetup1=MultiScaleOT.TMultiScaleSetup(pos1,mu1,hierarchyDepth,childMode=0)\nMultiScaleSetup2=MultiScaleOT.TMultiScaleSetup(pos2,mu2,hierarchyDepth,childMode=0)\n# generate a cost function object\ncostFunction=MultiScaleOT.THierarchicalCostFunctionProvider_SquaredEuclidean(\n        MultiScaleSetup1,MultiScaleSetup2,HKmode=True,HKscale=kappa)\n# eps scaling\nepsScalingHandler=MultiScaleOT.TEpsScalingHandler()\nepsScalingHandler.setupGeometricMultiLayerB(nLayers,1.,4.,2,2)\n\n# error goal\nerrorGoal=1E-1\n# sinkhorn solver object\nSinkhornSolver=MultiScaleOT.TSinkhornSolverKLMarginals(epsScalingHandler,\n        0,hierarchyDepth,errorGoal,\n        MultiScaleSetup1,MultiScaleSetup2,costFunction,kappa**2\n        )"
      ]
    },
    {
      "cell_type": "markdown",
      "metadata": {},
      "source": [
        "Solve\n\n"
      ]
    },
    {
      "cell_type": "code",
      "execution_count": null,
      "metadata": {
        "collapsed": false
      },
      "outputs": [],
      "source": [
        "t1=time.time()\nSinkhornSolver.initialize()\nprint(SinkhornSolver.solve())\nt2=time.time()\nprint(\"solving time: \",t2-t1)"
      ]
    },
    {
      "cell_type": "markdown",
      "metadata": {},
      "source": [
        "compare with full primal score: (this should be large wrt errorGoal)\n\n"
      ]
    },
    {
      "cell_type": "code",
      "execution_count": null,
      "metadata": {
        "collapsed": false
      },
      "outputs": [],
      "source": [
        "SinkhornSolver.getScorePrimalUnreg()"
      ]
    },
    {
      "cell_type": "markdown",
      "metadata": {},
      "source": [
        "Extract coupling data in a suitable sparse data structure\n\n"
      ]
    },
    {
      "cell_type": "code",
      "execution_count": null,
      "metadata": {
        "collapsed": false
      },
      "outputs": [],
      "source": [
        "couplingData=SinkhornSolver.getKernelPosData()\nres1=mu1.shape[0]\nres2=mu2.shape[0]\n\n# need to compute marginals of transport plan (are different from mu1,mu2 in unbalanced transport)\ncouplingDataPos=couplingData.getDataTuple()\ncouplingMatrix=scipy.sparse.coo_matrix((couplingDataPos[0],(couplingDataPos[1],couplingDataPos[2])),shape=(res1,res2))\nnu1=np.array(couplingMatrix.sum(axis=1)).ravel()\nnu2=np.array(couplingMatrix.sum(axis=0)).ravel()\n\n# we plug this into a simple routine for approximating the displacement interpolation at some time t\nt=0.5\ninterpData=MultiScaleOT.interpolateEuclideanHK(couplingData,nu1,nu2,mu1,mu2,pos1,pos2,t,kappa)\n# interpData is a container of particle masses and coordinates\n# these can be extracted via interpData.getDataTuple()\nmuT,posT=interpData.getDataTuple()"
      ]
    },
    {
      "cell_type": "markdown",
      "metadata": {},
      "source": [
        "rasterize to image\n\n"
      ]
    },
    {
      "cell_type": "code",
      "execution_count": null,
      "metadata": {
        "collapsed": false
      },
      "outputs": [],
      "source": [
        "reImg=np.zeros((n,n),dtype=np.double)\n# rasterize\nMultiScaleOT.projectInterpolation(interpData,reImg)\n# show rasterization\nplt.imshow(reImg)\nplt.show()"
      ]
    },
    {
      "cell_type": "markdown",
      "metadata": {},
      "source": [
        "now do this for a whole sequence of times\n\n"
      ]
    },
    {
      "cell_type": "code",
      "execution_count": null,
      "metadata": {
        "collapsed": false
      },
      "outputs": [],
      "source": [
        "nT=10\ntList=np.linspace(0.,1.,num=nT)\nfig=plt.figure(figsize=(nT*2,2))\nfor i,t in enumerate(tList):\n    fig.add_subplot(1,nT,i+1)\n    \n    # create displacement interpolations and rasterize them to image\n    interpData=MultiScaleOT.interpolateEuclideanHK(couplingData,nu1,nu2,mu1,mu2,pos1,pos2,t,kappa)\n\n    reImg=np.zeros((n,n),dtype=np.double)\n    MultiScaleOT.projectInterpolation(interpData,reImg)\n    \n    plt.imshow(reImg)\n    plt.axis(\"off\")\nplt.tight_layout()\nplt.show()"
      ]
    },
    {
      "cell_type": "markdown",
      "metadata": {},
      "source": [
        "now re-run this for different values of kappa\n\n"
      ]
    },
    {
      "cell_type": "code",
      "execution_count": null,
      "metadata": {
        "collapsed": false
      },
      "outputs": [],
      "source": [
        "for kappaPre in [0.625,0.5,0.375,0.25]:\n    kappa=kappaPre*n\n    \n    \n    costFunction.setHKscale(kappa)\n    SinkhornSolver.setKappa(kappa**2)\n    SinkhornSolver.solve()\n\n    couplingData=SinkhornSolver.getKernelPosData()\n    couplingDataPos=couplingData.getDataTuple()\n    couplingMatrix=scipy.sparse.coo_matrix((couplingDataPos[0],(couplingDataPos[1],couplingDataPos[2])),shape=(res1,res2))\n    nu1=np.array(couplingMatrix.sum(axis=1)).ravel()\n    nu2=np.array(couplingMatrix.sum(axis=0)).ravel()\n\n    nT=10\n    tList=np.linspace(0.,1.,num=nT)\n    fig=plt.figure(figsize=(nT*2,2))\n    for i,t in enumerate(tList):\n        fig.add_subplot(1,nT,i+1)\n\n        # create displacement interpolations and rasterize them to image\n        interpData=MultiScaleOT.interpolateEuclideanHK(couplingData,nu1,nu2,mu1,mu2,pos1,pos2,t,kappa)\n\n        reImg=np.zeros((n,n),dtype=np.double)\n        MultiScaleOT.projectInterpolation(interpData,reImg)\n\n        plt.imshow(reImg)\n        plt.axis(\"off\")\n    plt.tight_layout()\n    plt.show()"
      ]
    }
  ],
  "metadata": {
    "kernelspec": {
      "display_name": "Python 3",
      "language": "python",
      "name": "python3"
    },
    "language_info": {
      "codemirror_mode": {
        "name": "ipython",
        "version": 3
      },
      "file_extension": ".py",
      "mimetype": "text/x-python",
      "name": "python",
      "nbconvert_exporter": "python",
      "pygments_lexer": "ipython3",
      "version": "3.8.8"
    }
  },
  "nbformat": 4,
  "nbformat_minor": 0
}