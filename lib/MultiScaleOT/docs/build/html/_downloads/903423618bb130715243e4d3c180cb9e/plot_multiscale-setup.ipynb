{
  "cells": [
    {
      "cell_type": "code",
      "execution_count": null,
      "metadata": {
        "collapsed": false
      },
      "outputs": [],
      "source": [
        "%matplotlib inline"
      ]
    },
    {
      "cell_type": "markdown",
      "metadata": {},
      "source": [
        "\n1d Sparse Sinkhorn\n===============================================================================\n\nThis example demonstrates on a simple 1-dimensional example the basic usage of the TMultiScaleSetupGrid class for representing a point cloud with a measure on multiple resolution levels and how to use the SparseSinkhorn solver.\n"
      ]
    },
    {
      "cell_type": "code",
      "execution_count": null,
      "metadata": {
        "collapsed": false
      },
      "outputs": [],
      "source": [
        "import matplotlib.pyplot as plt\nimport numpy as np\nimport scipy.sparse\nimport MultiScaleOT\n\n# Generate a 1D Gaussian measure over a 1D list of points\npos=np.arange(32,dtype=np.double).reshape((-1,1))\nmu=np.exp(-0.5*((pos-16.)/4.)**2).ravel()\nmu=mu/np.sum(mu)\n\n\n# Simple visualization\nplt.plot(mu)\nplt.show()"
      ]
    },
    {
      "cell_type": "markdown",
      "metadata": {},
      "source": [
        "Now we generate the TMultiScaleSetup object\n\n"
      ]
    },
    {
      "cell_type": "code",
      "execution_count": null,
      "metadata": {
        "collapsed": false
      },
      "outputs": [],
      "source": [
        "# determines how many layers the multiscale representation will have\nhierarchyDepth=5\n\n# generate object\nMultiScaleSetup=MultiScaleOT.TMultiScaleSetupGrid(mu,hierarchyDepth)"
      ]
    },
    {
      "cell_type": "markdown",
      "metadata": {},
      "source": [
        "How many layers are there?\n\n"
      ]
    },
    {
      "cell_type": "code",
      "execution_count": null,
      "metadata": {
        "collapsed": false
      },
      "outputs": [],
      "source": [
        "nLayers=MultiScaleSetup.getNLayers()\nprint(nLayers)"
      ]
    },
    {
      "cell_type": "markdown",
      "metadata": {},
      "source": [
        "How many points are on each layer?\n\n"
      ]
    },
    {
      "cell_type": "code",
      "execution_count": null,
      "metadata": {
        "collapsed": false
      },
      "outputs": [],
      "source": [
        "print([MultiScaleSetup.getNPoints(l) for l in range(nLayers)])"
      ]
    },
    {
      "cell_type": "markdown",
      "metadata": {},
      "source": [
        "Plot all versions of the measure at all layers.\nAt the coarsest layer it is only a single point with mass 1.\nAt each subsequent finer layer, the mass is split over more points.\n\n"
      ]
    },
    {
      "cell_type": "code",
      "execution_count": null,
      "metadata": {
        "collapsed": false
      },
      "outputs": [],
      "source": [
        "for l in range(nLayers):\n    posL=MultiScaleSetup.getPoints(l)\n    muL=MultiScaleSetup.getMeasure(l)\n    plt.plot(posL,muL,marker=\"x\",label=l)\nplt.legend()\nplt.show()"
      ]
    },
    {
      "cell_type": "markdown",
      "metadata": {},
      "source": [
        "Create a second measure, a sum of two gaussians. Create a corresponding multiscale object. Plot both measures for comparison.\n\n"
      ]
    },
    {
      "cell_type": "code",
      "execution_count": null,
      "metadata": {
        "collapsed": false
      },
      "outputs": [],
      "source": [
        "nu=np.exp(-0.5*((pos-8.)/2.)**2).ravel()+np.exp(-0.5*((pos-24.)/2.)**2).ravel()\nnu=nu/np.sum(nu)\n\nMultiScaleSetup2=MultiScaleOT.TMultiScaleSetupGrid(nu,hierarchyDepth)\n\nplt.plot(mu)\nplt.plot(nu)\nplt.show()"
      ]
    },
    {
      "cell_type": "markdown",
      "metadata": {},
      "source": [
        "Create a cost function object for the two measures. Evaluate all pairwise costs and display as image.\n\n"
      ]
    },
    {
      "cell_type": "code",
      "execution_count": null,
      "metadata": {
        "collapsed": false
      },
      "outputs": [],
      "source": [
        "costFunction=MultiScaleOT.THierarchicalCostFunctionProvider_SquaredEuclidean(\n        MultiScaleSetup,MultiScaleSetup2)\n\n# number of points in the two measures:\nxres=mu.shape[0]\nyres=nu.shape[0]\n\nc=np.array([[costFunction.getCost(hierarchyDepth,x,y) for y in range(yres)] for x in range(xres)])\n\nplt.imshow(c)\nplt.show()"
      ]
    },
    {
      "cell_type": "markdown",
      "metadata": {},
      "source": [
        "Create an epsilon scaling object. Choosing the proper values for epsilon scaling and the scheduling over the multiple layers is not trivial. The following parameters should work well on most Wasserstein-2-type problems.\n\n"
      ]
    },
    {
      "cell_type": "code",
      "execution_count": null,
      "metadata": {
        "collapsed": false
      },
      "outputs": [],
      "source": [
        "epsScalingHandler=MultiScaleOT.TEpsScalingHandler()\nepsScalingHandler.setupGeometricMultiLayerB(nLayers,1.,4.,2,2)\n\n# Check which values for epsilon scaling have been generated. This returns a list of eps values to be used on each layer.\nprint(epsScalingHandler.get())"
      ]
    },
    {
      "cell_type": "markdown",
      "metadata": {},
      "source": [
        "Now generate Sinkhorn solver object, initialize, solve, extract optimal coupling and convert it to scipy.sparse.csr_matrix.\nVisualize optimal coupling as image.\n\n"
      ]
    },
    {
      "cell_type": "code",
      "execution_count": null,
      "metadata": {
        "collapsed": false
      },
      "outputs": [],
      "source": [
        "# error goal\nerrorGoal=1E-3\n# Sinkhorn solver object\nSinkhornSolver=MultiScaleOT.TSinkhornSolverStandard(epsScalingHandler,\n        0,hierarchyDepth,errorGoal,\n        MultiScaleSetup,MultiScaleSetup2,costFunction\n        )\n\n# initialize and solve\nSinkhornSolver.initialize()\nSinkhornSolver.solve()\n\n# extract optimal coupling\nkernelData=SinkhornSolver.getKernelCSRDataTuple()\nkernel=scipy.sparse.csr_matrix(kernelData,shape=(xres,yres))\n\nplt.imshow(kernel.toarray())\nplt.show()"
      ]
    },
    {
      "cell_type": "markdown",
      "metadata": {},
      "source": [
        "Print the optimal transport cost part of the primal objective (cost function integrated against optimal coupling) and compare it with manually computed value.\n\n"
      ]
    },
    {
      "cell_type": "code",
      "execution_count": null,
      "metadata": {
        "collapsed": false
      },
      "outputs": [],
      "source": [
        "print(SinkhornSolver.getScoreTransportCost())\nprint(np.sum(kernel.toarray()*c))"
      ]
    }
  ],
  "metadata": {
    "kernelspec": {
      "display_name": "Python 3",
      "language": "python",
      "name": "python3"
    },
    "language_info": {
      "codemirror_mode": {
        "name": "ipython",
        "version": 3
      },
      "file_extension": ".py",
      "mimetype": "text/x-python",
      "name": "python",
      "nbconvert_exporter": "python",
      "pygments_lexer": "ipython3",
      "version": "3.8.1"
    }
  },
  "nbformat": 4,
  "nbformat_minor": 0
}