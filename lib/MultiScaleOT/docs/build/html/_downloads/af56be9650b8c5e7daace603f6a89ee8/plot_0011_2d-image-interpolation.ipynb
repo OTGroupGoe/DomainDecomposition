{
  "cells": [
    {
      "cell_type": "code",
      "execution_count": null,
      "metadata": {
        "collapsed": false
      },
      "outputs": [],
      "source": [
        "%matplotlib inline"
      ]
    },
    {
      "cell_type": "markdown",
      "metadata": {},
      "source": [
        "\n2d Image Interpolation\n===============================================================================\n\nThis example computes the optimal transport between two simple 2-dimensional images and then generates a simple approximation of the displacement interpolation\n"
      ]
    },
    {
      "cell_type": "code",
      "execution_count": null,
      "metadata": {
        "collapsed": false
      },
      "outputs": [],
      "source": [
        "import time\nimport matplotlib.pyplot as plt\nimport numpy as np\nimport scipy.sparse\nimport MultiScaleOT\n\n# Create two images: a square and one rotated by 45deg\n# with approximately equal areas\n\nhierarchyDepth=7 # feel free to play with this value, up to 7 (i.e. 128x128 images) it should be quite low-weight\nn=2**hierarchyDepth\nnLayers=hierarchyDepth+1\n\n# Square\nimg1=np.zeros((n,n),dtype=np.double)\nthresh=int(n*0.5*(1.-1./np.sqrt(2)))\nimg1[thresh:-thresh,thresh:-thresh]=1.\nimg1=img1/np.sum(img1)\n\n# Diamond\nimg2=np.abs(np.arange(n).reshape((-1,1))-n/2+0.5)+np.abs(np.arange(n).reshape((1,-1))-n/2+0.5)\nimg2[...]=(img2<n/2+0.1)\nimg2=img2/np.sum(img2)\n\n# Simple visualization\nfig=plt.figure()\nfig.add_subplot(1,2,1)\nplt.imshow(img1)\nfig.add_subplot(1,2,2)\nplt.imshow(img2)\nplt.tight_layout()\nplt.show()"
      ]
    },
    {
      "cell_type": "markdown",
      "metadata": {},
      "source": [
        "Aux function for extracting weighted point clouds from images\n\n"
      ]
    },
    {
      "cell_type": "code",
      "execution_count": null,
      "metadata": {
        "collapsed": false
      },
      "outputs": [],
      "source": [
        "def extractMeasureFromImage(img,zeroThresh=1E-14):\n    dim=img.shape\n    \n    pos=np.zeros(dim+(2,),dtype=np.double)\n    pos[:,:,0]=np.arange(dim[0]).reshape((-1,1))\n    pos[:,:,1]=np.arange(dim[1]).reshape((1,-1))\n    pos=pos.reshape((-1,2))\n    keep=(img.ravel()>zeroThresh)\n    mu=img.ravel()[keep]\n    pos=pos[keep]\n    return (mu,pos)\n\n# extract measures from images\nmu1,pos1=extractMeasureFromImage(img1)\nmu2,pos2=extractMeasureFromImage(img2)"
      ]
    },
    {
      "cell_type": "markdown",
      "metadata": {},
      "source": [
        "Setup multi-scale solver\n\n"
      ]
    },
    {
      "cell_type": "code",
      "execution_count": null,
      "metadata": {
        "collapsed": false
      },
      "outputs": [],
      "source": [
        "# generate multi-scale representations\nMultiScaleSetup1=MultiScaleOT.TMultiScaleSetup(pos1,mu1,hierarchyDepth,childMode=0)\nMultiScaleSetup2=MultiScaleOT.TMultiScaleSetup(pos2,mu2,hierarchyDepth,childMode=0)\n# generate a cost function object\ncostFunction=MultiScaleOT.THierarchicalCostFunctionProvider_SquaredEuclidean(\n        MultiScaleSetup1,MultiScaleSetup2)\n# eps scaling\nepsScalingHandler=MultiScaleOT.TEpsScalingHandler()\nepsScalingHandler.setupGeometricMultiLayerB(nLayers,1.,4.,2,2)\n\n# error goal\nerrorGoal=1E-3\n# sinkhorn solver object\nSinkhornSolver=MultiScaleOT.TSinkhornSolverStandard(epsScalingHandler,\n        0,hierarchyDepth,errorGoal,\n        MultiScaleSetup1,MultiScaleSetup2,costFunction\n        )"
      ]
    },
    {
      "cell_type": "markdown",
      "metadata": {},
      "source": [
        "Solve\n\n"
      ]
    },
    {
      "cell_type": "code",
      "execution_count": null,
      "metadata": {
        "collapsed": false
      },
      "outputs": [],
      "source": [
        "t1=time.time()\nSinkhornSolver.initialize()\nprint(SinkhornSolver.solve())\nt2=time.time()\nprint(\"solving time: \",t2-t1)"
      ]
    },
    {
      "cell_type": "markdown",
      "metadata": {},
      "source": [
        "Extract coupling data in a suitable sparse data structure\n\n"
      ]
    },
    {
      "cell_type": "code",
      "execution_count": null,
      "metadata": {
        "collapsed": false
      },
      "outputs": [],
      "source": [
        "couplingData=SinkhornSolver.getKernelPosData()\n# couplingData is a container for the coupling data in scipy.sparse.coo_matrix format\n# by calling the method couplingData.getDataTuple() one could obtain the list of\n# non-zero values and their row and column indices\n\n# we plug this into a simple routine for approximating the displacement interpolation at some time t\nt=0.5\ninterpData=MultiScaleOT.interpolateEuclidean(couplingData,pos1,pos2,t)\n# interpData is a container of particle masses and coordinates\n# these can be extracted via interpData.getDataTuple()\nmuT,posT=interpData.getDataTuple()"
      ]
    },
    {
      "cell_type": "markdown",
      "metadata": {},
      "source": [
        "the intermediate measure can in principle be visualized as a weighted point cloud\nthis can be slow on large images and also may not give a very good visual impression of the measure\n\n"
      ]
    },
    {
      "cell_type": "code",
      "execution_count": null,
      "metadata": {
        "collapsed": false
      },
      "outputs": [],
      "source": [
        "plt.scatter(posT[:,0],posT[:,1],s=10*muT/np.max(muT))\nplt.show()"
      ]
    },
    {
      "cell_type": "markdown",
      "metadata": {},
      "source": [
        "alternatively, the point cloud can be rasterized to an image of suitable dimensions\nparticle coordinates are assumed to be pixels (one pixel has length 1, origin at (0,0))\none may need to rescale coordinates appropriately before calling the function\nand one has to provide a suitable target image\nthe target image is allocated:\n\n"
      ]
    },
    {
      "cell_type": "code",
      "execution_count": null,
      "metadata": {
        "collapsed": false
      },
      "outputs": [],
      "source": [
        "reImg=np.zeros((n,n),dtype=np.double)\n# rasterize\nMultiScaleOT.projectInterpolation(interpData,reImg)\n# show rasterization\nplt.imshow(reImg)\nplt.show()"
      ]
    },
    {
      "cell_type": "markdown",
      "metadata": {},
      "source": [
        "now do this for a whole sequence of times\n\n"
      ]
    },
    {
      "cell_type": "code",
      "execution_count": null,
      "metadata": {
        "collapsed": false
      },
      "outputs": [],
      "source": [
        "nT=10\ntList=np.linspace(0.,1.,num=nT)\nfig=plt.figure(figsize=(nT*2,2))\nfor i,t in enumerate(tList):\n    fig.add_subplot(1,nT,i+1)\n    \n    # create displacement interpolations and rasterize them to image\n    interpData=MultiScaleOT.interpolateEuclidean(couplingData,pos1,pos2,t)\n    reImg=np.zeros((n,n),dtype=np.double)\n    MultiScaleOT.projectInterpolation(interpData,reImg)\n    \n    plt.imshow(reImg)\n    plt.axis(\"off\")\nplt.tight_layout()\nplt.show()"
      ]
    }
  ],
  "metadata": {
    "kernelspec": {
      "display_name": "Python 3",
      "language": "python",
      "name": "python3"
    },
    "language_info": {
      "codemirror_mode": {
        "name": "ipython",
        "version": 3
      },
      "file_extension": ".py",
      "mimetype": "text/x-python",
      "name": "python",
      "nbconvert_exporter": "python",
      "pygments_lexer": "ipython3",
      "version": "3.8.8"
    }
  },
  "nbformat": 4,
  "nbformat_minor": 0
}