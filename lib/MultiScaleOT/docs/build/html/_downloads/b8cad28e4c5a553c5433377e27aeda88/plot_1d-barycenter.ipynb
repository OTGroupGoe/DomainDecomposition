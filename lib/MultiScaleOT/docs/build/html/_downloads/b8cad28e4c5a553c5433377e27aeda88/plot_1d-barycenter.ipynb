{
  "cells": [
    {
      "cell_type": "code",
      "execution_count": null,
      "metadata": {
        "collapsed": false
      },
      "outputs": [],
      "source": [
        "%matplotlib inline"
      ]
    },
    {
      "cell_type": "markdown",
      "metadata": {},
      "source": [
        "\n1d Barycenter with Sinkhorn\n===============================================================================\n\nThis example demonstrates on a simple 1-dimensional example the basic usage of the TSinkhornSolverBarycenter class for computing a Wasserstein barycenter with entropic regularization.\n"
      ]
    },
    {
      "cell_type": "code",
      "execution_count": null,
      "metadata": {
        "collapsed": false
      },
      "outputs": [],
      "source": [
        "import matplotlib.pyplot as plt\nimport numpy as np\nimport scipy.sparse\nimport MultiScaleOT\n\n# create a simple 1d grid on which our measures will live\nres=64\npos=np.arange(res,dtype=np.double).reshape((-1,1))\n\n# create a bunch of Gaussian measures on this 1d grid\nlistMean=[16.,32.,40.]\nlistStdDev=[4.,10.,5.]\nmuList=[np.exp(-0.5*((pos-mean)/stddev)**2).ravel() for mean,stddev in zip(listMean,listStdDev)]\n# normalize\nmuList=[mu/np.sum(mu) for mu in muList]\n\n\n# weights for barycenter computation\nweightList=np.array([1.,1.,1.])\nweightList=weightList/np.sum(weightList)\nnMarginals=weightList.shape[0]\n\n# Simple visualization\nfor mu in muList:\n    plt.plot(mu)\nplt.show()\n\n# generate uniform background measure, representing domain on which barycenter is searched\nmuCenter=np.ones(pos.shape[0])\nmuCenter=muCenter/np.sum(muCenter)"
      ]
    },
    {
      "cell_type": "markdown",
      "metadata": {},
      "source": [
        "Now we generate the TMultiScaleSetup objects (one for each marginal measure and one for the center)\n\n"
      ]
    },
    {
      "cell_type": "code",
      "execution_count": null,
      "metadata": {
        "collapsed": false
      },
      "outputs": [],
      "source": [
        "# determines how many layers the multiscale representation will have\nhierarchyDepth=6\n\n# generate multi scale objects, do not allocate dual variable memory\nMultiScaleSetupList=[MultiScaleOT.TMultiScaleSetupGrid(mu,hierarchyDepth,setupDuals=False) for mu in muList]\nMultiScaleSetupCenter=MultiScaleOT.TMultiScaleSetupGrid(muCenter,hierarchyDepth,setupDuals=False)\n\nnLayers=MultiScaleSetupCenter.getNLayers()\n\n# list of cost function objects\nCostFunctionList=[MultiScaleOT.THierarchicalCostFunctionProvider_SquaredEuclidean(multiX,MultiScaleSetupCenter)\\\n        for multiX in MultiScaleSetupList]"
      ]
    },
    {
      "cell_type": "markdown",
      "metadata": {},
      "source": [
        "Now we set up the barycenter container object: it is mostly useful for managing memory of dual variables\n\n"
      ]
    },
    {
      "cell_type": "code",
      "execution_count": null,
      "metadata": {
        "collapsed": false
      },
      "outputs": [],
      "source": [
        "BarycenterContainer=MultiScaleOT.TMultiScaleSetupBarycenterContainer(nMarginals)\n\n# assign multi scale objects to barycenter object\nfor i in range(nMarginals):\n    BarycenterContainer.setMarginal(i,MultiScaleSetupList[i],weightList[i])\n    \nBarycenterContainer.setCenterMarginal(MultiScaleSetupCenter)\n\n\n# now allocate dual variables for barycenter problem. the memory is managed by the\n# TMultiScaleSetupBarycenterContainer object, not by the separate TMultiScaleSetup objects\nBarycenterContainer.setupDuals()\n\n# assign cost function objects to barycenter object\nfor i in range(nMarginals):\n    BarycenterContainer.setCostFunctionProvider(i,CostFunctionList[i])"
      ]
    },
    {
      "cell_type": "markdown",
      "metadata": {},
      "source": [
        "A few other parameters\n\n"
      ]
    },
    {
      "cell_type": "code",
      "execution_count": null,
      "metadata": {
        "collapsed": false
      },
      "outputs": [],
      "source": [
        "errorGoal=1E-3\ncfg=MultiScaleOT.TSinkhornSolverParameters()\n\nepsScalingHandler=MultiScaleOT.TEpsScalingHandler()\nepsScalingHandler.setupGeometricMultiLayerB(nLayers,1.,4.,2,2)"
      ]
    },
    {
      "cell_type": "markdown",
      "metadata": {},
      "source": [
        "If interested, turn this on\n\n"
      ]
    },
    {
      "cell_type": "code",
      "execution_count": null,
      "metadata": {
        "collapsed": false
      },
      "outputs": [],
      "source": [
        "#MultiScaleOT.setVerboseMode(True)"
      ]
    },
    {
      "cell_type": "markdown",
      "metadata": {},
      "source": [
        "Create and initialize solver object, then solve\n\n"
      ]
    },
    {
      "cell_type": "code",
      "execution_count": null,
      "metadata": {
        "collapsed": false
      },
      "outputs": [],
      "source": [
        "SinkhornSolver=MultiScaleOT.TSinkhornSolverBarycenter(epsScalingHandler,0,hierarchyDepth,errorGoal,\\\n        BarycenterContainer,cfg)\nSinkhornSolver.initialize()\nSinkhornSolver.solve()"
      ]
    },
    {
      "cell_type": "markdown",
      "metadata": {},
      "source": [
        "Extract and visualize all couplings\n\n"
      ]
    },
    {
      "cell_type": "code",
      "execution_count": null,
      "metadata": {
        "collapsed": false
      },
      "outputs": [],
      "source": [
        "# extract all couplings\ncouplingData=[SinkhornSolver.getKernelCSRDataTuple(i) for i in range(nMarginals)]\ncouplings=[scipy.sparse.csr_matrix(cData,shape=(res,res)) for cData in couplingData]\n\n# plot all couplings\nfig=plt.figure()\nfor i in range(nMarginals):\n    fig.add_subplot(1,nMarginals,i+1)\n    plt.imshow(couplings[i].toarray())\n    plt.axis('off')\nplt.tight_layout()\nplt.show()"
      ]
    },
    {
      "cell_type": "markdown",
      "metadata": {},
      "source": [
        "Extract all 2nd marginals (the ones corresponding to the barycenter)\n\n"
      ]
    },
    {
      "cell_type": "code",
      "execution_count": null,
      "metadata": {
        "collapsed": false
      },
      "outputs": [],
      "source": [
        "innerMargs=[SinkhornSolver.getMarginalY(i) for i in range(nMarginals)]    \n\n# visualize inner marginals (they should all be similar and close to the true barycenter upon successful solving)\n# NOTE: the final entropic regularization chosen here is 0.25 (see below)\n# which is substantially below the squared distance between two neighbouring pixels (which is 1)\n# therefore, the effect of regularization is already pretty weak, and we see discretization artifacts\n# which are particularly prominent in the barycenter problem\n# see [Cuturi, Peyre: A Smoothed Dual Approach for Variational Wasserstein Problems, DOI: 10.1137/15M1032600,\n# Figure 1 for an illustration.\n\nfor i in range(nMarginals):\n    plt.plot(innerMargs[i])\nplt.show()\n\n# print finest eps value:\nepsList=epsScalingHandler.get()\nepsList[-1][-1]"
      ]
    }
  ],
  "metadata": {
    "kernelspec": {
      "display_name": "Python 3",
      "language": "python",
      "name": "python3"
    },
    "language_info": {
      "codemirror_mode": {
        "name": "ipython",
        "version": 3
      },
      "file_extension": ".py",
      "mimetype": "text/x-python",
      "name": "python",
      "nbconvert_exporter": "python",
      "pygments_lexer": "ipython3",
      "version": "3.8.1"
    }
  },
  "nbformat": 4,
  "nbformat_minor": 0
}